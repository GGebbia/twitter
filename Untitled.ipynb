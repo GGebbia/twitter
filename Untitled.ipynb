{
 "cells": [
  {
   "cell_type": "markdown",
   "metadata": {},
   "source": [
    "# LINKS OF INTEREST\n",
    "\n",
    "http://docs.tweepy.org/en/latest/api.html#api-reference  \n",
    "https://developer.twitter.com/en/docs/twitter-api/getting-started/guide"
   ]
  },
  {
   "cell_type": "code",
   "execution_count": 1,
   "metadata": {},
   "outputs": [],
   "source": [
    "import json\n",
    "import tweepy\n",
    "# Enter your keys/secrets as strings in the following fields\n",
    "credentials = {\n",
    "        \"CONSUMER_KEY\": \"KKg701T9QUlTTHGDaauKlTcKd\",\n",
    "        \"CONSUMER_SECRET\": \"X1AyLTprCPrzTKqHIbBD67nTTMNmF95ajbNzud43BRbCTPdbJ0\",\n",
    "        \"ACCESS_TOKEN\": \"470077550-oXR3ABFuGuBoSPUG1MpchJiSGJaIwVfkTd5Q3Eop\",\n",
    "        \"ACCESS_SECRET\": \"O6UsaobBhWAD9Tt8B5b4QI2kdKeBFXnCqvQa30HTp6P82\"\n",
    "        }\n",
    "\n",
    "\n",
    "auth = tweepy.OAuthHandler(credentials[\"CONSUMER_KEY\"], credentials[\"CONSUMER_SECRET\"])\n",
    "auth.set_access_token(credentials[\"ACCESS_TOKEN\"], credentials[\"ACCESS_SECRET\"])\n",
    "\n",
    "api = tweepy.API(auth)"
   ]
  },
  {
   "cell_type": "code",
   "execution_count": 2,
   "metadata": {},
   "outputs": [],
   "source": [
    "# Get tweets by id\n",
    "def get_tweets_by_id(user_id, count=20):\n",
    "    user_tweets = api.user_timeline(user_id, count=count)\n",
    "    return user_tweets\n"
   ]
  },
  {
   "cell_type": "code",
   "execution_count": null,
   "metadata": {},
   "outputs": [],
   "source": [
    "def get_tweets_by_most_influeced(text):\n",
    " \n",
    "    "
   ]
  },
  {
   "cell_type": "code",
   "execution_count": 9,
   "metadata": {},
   "outputs": [],
   "source": [
    "alexelcapo_tweets = get_tweets_by_id(\"EvilAFM\", count=3)\n"
   ]
  },
  {
   "cell_type": "code",
   "execution_count": 10,
   "metadata": {},
   "outputs": [
    {
     "name": "stdout",
     "output_type": "stream",
     "text": [
      "Os dejo unas fotos de los gatetes y me voy a tomarme el día libre 👍 https://t.co/x1gEOm2HRx\n",
      "@juanmacastillo Ahora que salido el último DLC debería rejugarlo pero quizá espero a hacerlo a 3000 por hora.\n",
      "@noconida xDD\n"
     ]
    }
   ],
   "source": [
    "for tweet in alexelcapo_tweets:\n",
    "    print(tweet.text)"
   ]
  },
  {
   "cell_type": "code",
   "execution_count": 11,
   "metadata": {},
   "outputs": [],
   "source": [
    "first_tweet = alexelcapo_tweets[0]"
   ]
  },
  {
   "cell_type": "code",
   "execution_count": 13,
   "metadata": {},
   "outputs": [],
   "source": [
    "results = api.retweets(first_tweet.id)"
   ]
  },
  {
   "cell_type": "code",
   "execution_count": 17,
   "metadata": {},
   "outputs": [
    {
     "name": "stdout",
     "output_type": "stream",
     "text": [
      "teo\n",
      "me dio la palida x 1 cigarro\n",
      "Nøctus XIII\n",
      "La V\n",
      "Delfin Perez\n",
      "A.\n",
      "sí\n",
      "Edson Rodríguez\n",
      "David José Plata\n",
      "Nube Nulaz\n",
      "TejónDeMenta\n",
      "Juanquilometro\n",
      "Lady Phoebe Ciruela de Lidl\n",
      "César Mayorga\n",
      "Diana González\n",
      "Lost in Translation(இдஇ; ) @言語熱中\n",
      "николас\n",
      "🐲 Jaster Spooks 🐉 Scary Skeleton Extraordinaire\n",
      "Alejandro Castaño\n",
      "Akuma Raion 🇦🇷\n"
     ]
    }
   ],
   "source": [
    "for tweet in results:\n",
    "    p"
   ]
  },
  {
   "cell_type": "code",
   "execution_count": 18,
   "metadata": {},
   "outputs": [],
   "source": [
    "lista = api.search(\"bitcoin\")"
   ]
  },
  {
   "cell_type": "code",
   "execution_count": 19,
   "metadata": {},
   "outputs": [
    {
     "data": {
      "text/plain": [
       "13"
      ]
     },
     "execution_count": 19,
     "metadata": {},
     "output_type": "execute_result"
    }
   ],
   "source": [
    "len(lista)"
   ]
  },
  {
   "cell_type": "code",
   "execution_count": 20,
   "metadata": {},
   "outputs": [
    {
     "name": "stdout",
     "output_type": "stream",
     "text": [
      "@ThavhanyedzaM #CMCXERICA #StudentsDislikePMModi\n",
      "#Bitcoin #VMAs\n",
      "#MondayMotivation #MondayMorning\n",
      "#prayforphora\n",
      "💕 ❤️ 💖 💜 💗 💚\n",
      "🤞 🤞 🤞 🤞 🤞 🤞 0 0\n",
      "\n",
      "-------------\n",
      "\n",
      "RT @AmitSin78624571: 💰US$100 of CRO for the first 1K eligible participants \n",
      " 💰Prize pool of US$200K\n",
      " \n",
      " 🌐✅👉https://t.co/dyYwbv1rPo\n",
      "\n",
      "⏭️GO FAS… 0 21\n",
      "\n",
      "-------------\n",
      "\n",
      "La cryptomonnaie qui atomise Bitcoin (BTC) – YFI atteint (brièvement) les 38 855 dollars ! https://t.co/7JMycrjNw0… https://t.co/Ljiio1nbRS 0 0\n",
      "\n",
      "-------------\n",
      "\n",
      "RT @dragonchaingang: Each type of content captured through https://t.co/Sr2q7Jom0n becomes an immutable Dragonchain transaction, Interchain… 0 8\n",
      "\n",
      "-------------\n",
      "\n",
      "RT @kyrah: “Bitcoin mining now uses more of Iceland's electricity than its homes.”\n",
      "\n",
      "How anyone ever thought creating artificial scarcity by… 0 34\n",
      "\n",
      "-------------\n",
      "\n",
      "RT @BitcoinWhaIe: Giving away $100 in #BTC. \n",
      "\n",
      "All you have to do is follow me &amp; @Bloqport.\n",
      "\n",
      "Retweet &amp; comment ‘#Bitcoin’ when done.\n",
      "\n",
      "What c… 0 951\n",
      "\n",
      "-------------\n",
      "\n",
      "$LINK\n",
      "\n",
      "estrutura rompida, agora o preço faz um teste na região como suporte, vou esperar esse candle h4 fechar pra… https://t.co/b1cm7BZZna 0 0\n",
      "\n",
      "-------------\n",
      "\n",
      "RT @ChainUPOfficial: Start your own crypto exchange in 2 weeks with high security standard\n",
      "ChainUP white label crypto exchange system\n",
      "#liqu… 0 1\n",
      "\n",
      "-------------\n",
      "\n",
      "RT @YourBTCC: BTCC Quiz Time❓\n",
      "\n",
      "Hint: https://t.co/m15ao2mVwo\n",
      "\n",
      "✅Follow &amp; RT\n",
      "✅Tag 3 Fds\n",
      "✅Comment your answer\n",
      "\n",
      "We will randomly select one luc… 0 53\n",
      "\n",
      "-------------\n",
      "\n",
      "Decentralized oracle solution Chainlink reaches Bitcoin via RSK smart contract ecosystem  \n",
      "\n",
      "#crypto #blockchain… https://t.co/lRqXMgbzYY 0 1\n",
      "\n",
      "-------------\n",
      "\n",
      "@HRMIrene Good afternoon,giveaway let's talk rates\n",
      "\n",
      "BITCOIN--460/$\n",
      "EBAY -- 280/$\n",
      "STEAM GIFT CARD--280/$\n",
      "Amazon Gift… https://t.co/17nhUNrH0k 0 0\n",
      "\n",
      "-------------\n",
      "\n",
      "RT @eToro: 😲 Really? \n",
      "Yes! \n",
      "Bitcoin breached the $12K barrier\n",
      "Is it time to invest? 0 144\n",
      "\n",
      "-------------\n",
      "\n",
      "RT @CSUK_News: Bitcoin mining is big business. In just ten years, bitcoin mining, where bitcoin tokens are rewarded to those that maintain… 0 1\n",
      "\n",
      "-------------\n",
      "\n"
     ]
    }
   ],
   "source": [
    "for el in lista:\n",
    "    print(el.text, el.favorite_count, el.retweet_count)\n",
    "    print(\"\\n-------------\\n\")"
   ]
  }
 ],
 "metadata": {
  "kernelspec": {
   "display_name": "Python 3",
   "language": "python",
   "name": "python3"
  },
  "language_info": {
   "codemirror_mode": {
    "name": "ipython",
    "version": 3
   },
   "file_extension": ".py",
   "mimetype": "text/x-python",
   "name": "python",
   "nbconvert_exporter": "python",
   "pygments_lexer": "ipython3",
   "version": "3.8.2"
  }
 },
 "nbformat": 4,
 "nbformat_minor": 4
}
